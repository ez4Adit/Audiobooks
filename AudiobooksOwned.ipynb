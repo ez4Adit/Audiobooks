{
 "cells": [
  {
   "cell_type": "code",
   "execution_count": 1,
   "id": "6529c095",
   "metadata": {},
   "outputs": [],
   "source": [
    "import tensorflow as tf\n",
    "import numpy as np"
   ]
  },
  {
   "cell_type": "code",
   "execution_count": 2,
   "id": "c9fb6d0b",
   "metadata": {},
   "outputs": [],
   "source": [
    "npz = np.load('Audiobooks_data_train.npz')\n",
    "train_inputs = npz['inputs'].astype(float)\n",
    "train_targets = npz['targets'].astype(int)\n",
    "\n",
    "npz = np.load('Audiobooks_data_validation.npz')\n",
    "validation_inputs = npz['inputs'].astype(float)\n",
    "validation_targets = npz['targets'].astype(int)\n",
    "\n",
    "npz = np.load('Audiobooks_data_test.npz')\n",
    "test_inputs = npz['inputs'].astype(float)\n",
    "test_targets = npz['targets'].astype(int)\n"
   ]
  },
  {
   "cell_type": "code",
   "execution_count": 3,
   "id": "e22d0c71",
   "metadata": {},
   "outputs": [],
   "source": [
    "hidden_layer_size = 50\n",
    "output_size = 2\n",
    "model = tf.keras.Sequential([\n",
    "    tf.keras.layers.Dense(hidden_layer_size, activation = 'relu'),\n",
    "    tf.keras.layers.Dense(hidden_layer_size, activation = 'relu'),\n",
    "    tf.keras.layers.Dense(output_size, activation = 'softmax')\n",
    "])\n",
    "\n",
    "model.compile(optimizer = 'adam', loss = 'sparse_categorical_crossentropy', metrics = ['accuracy'])"
   ]
  },
  {
   "cell_type": "code",
   "execution_count": null,
   "id": "9c057694",
   "metadata": {},
   "outputs": [
    {
     "name": "stdout",
     "output_type": "stream",
     "text": [
      "Epoch 1/100\n",
      "3579/3579 - 6s - loss: 0.4173 - accuracy: 0.7765 - val_loss: 0.3709 - val_accuracy: 0.8054 - 6s/epoch - 2ms/step\n",
      "Epoch 2/100\n",
      "3579/3579 - 6s - loss: 0.3703 - accuracy: 0.7916 - val_loss: 0.3615 - val_accuracy: 0.7830 - 6s/epoch - 2ms/step\n",
      "Epoch 3/100\n",
      "3579/3579 - 6s - loss: 0.3622 - accuracy: 0.7944 - val_loss: 0.3421 - val_accuracy: 0.8188 - 6s/epoch - 2ms/step\n",
      "Epoch 4/100\n",
      "3579/3579 - 4s - loss: 0.3484 - accuracy: 0.8108 - val_loss: 0.3509 - val_accuracy: 0.7964 - 4s/epoch - 1ms/step\n",
      "Epoch 5/100\n"
     ]
    }
   ],
   "source": [
    "Batch_size = 1\n",
    "num_epochs = 100\n",
    "early_stopping = tf.keras.callbacks.EarlyStopping(patience = 2)\n",
    "model.fit(train_inputs, train_targets, batch_size = Batch_size, epochs = num_epochs, callbacks=[early_stopping],\n",
    "          validation_data = \n",
    "          (validation_inputs,validation_targets), verbose = 2)"
   ]
  },
  {
   "cell_type": "code",
   "execution_count": null,
   "id": "440fce33",
   "metadata": {},
   "outputs": [],
   "source": []
  }
 ],
 "metadata": {
  "kernelspec": {
   "display_name": "Python 3",
   "language": "python",
   "name": "python3"
  },
  "language_info": {
   "codemirror_mode": {
    "name": "ipython",
    "version": 3
   },
   "file_extension": ".py",
   "mimetype": "text/x-python",
   "name": "python",
   "nbconvert_exporter": "python",
   "pygments_lexer": "ipython3",
   "version": "3.8.8"
  }
 },
 "nbformat": 4,
 "nbformat_minor": 5
}
